{
 "cells": [
  {
   "cell_type": "code",
   "execution_count": null,
   "id": "ed81a675",
   "metadata": {},
   "outputs": [],
   "source": [
    "import pandas as pd"
   ]
  },
  {
   "cell_type": "code",
   "execution_count": null,
   "id": "2a247959",
   "metadata": {},
   "outputs": [],
   "source": [
    "data = pd.read_csv(\"Trans_Course_Demos.csv\")\n",
    "data"
   ]
  },
  {
   "cell_type": "code",
   "execution_count": null,
   "id": "de8c7ef8",
   "metadata": {},
   "outputs": [],
   "source": [
    "data.columns"
   ]
  },
  {
   "cell_type": "markdown",
   "id": "db0bc0df",
   "metadata": {},
   "source": [
    "### Creating a fake Dataset based on the Dataset of the Trans_Course_Demos.csv"
   ]
  },
  {
   "cell_type": "code",
   "execution_count": null,
   "id": "36feb197",
   "metadata": {},
   "outputs": [],
   "source": [
    "data = pd.DataFrame()\n",
    "data[\"PIFID\"] = [\"moontreemidwifery@gmail.com\", \"allie.evans@hsc.utah.edu\", \n",
    "                 \"bailey.jones@hsc.utah.edu\", \"jonny.jones@hsc.utah.edu\", \n",
    "                \"blake.jackson@hsc.utah.edu\", \"suntreemidwifery@gmail.com\", \n",
    "                \"moonplantidwifery@gmail.com\", \"mooncloudmidwifery@gmail.com\",\n",
    "                \"suncliffmidwifery@gmail.com\", \"markzuber@gmail.com\", \n",
    "                \"carter.morris@hsc.utah.edu\", \"bridger.jones@hsc.utah.edu\",\n",
    "                \"brook.jackson@hsc.utah.edu\", \"wendy.jones@hsc.utah.edu\",\n",
    "                \"alex.morrison@hsc.utah.edu\", \"jake.bell@hsc.utah.edu\", \n",
    "                \"philjackson@hsc.utah.edu\", \"corybrooks@yahoo.com\",\n",
    "                \"marybrooks@yahoo.com\", \"donavonbrooks@yahoo.com\", \"coryjames@yahoo.com\",\n",
    "                \"perryparis@yahoo.com\", \"eringreen@yahoo.com\", \"erinbrooks@yahoo.com\"]\n",
    "data[\"ER5\"] = [21040716, 21040718, 21040719, 21040721, 21040725, 21040728, 21040731,\n",
    "              21040734, 21040740, 21040741, 21040744, 21040742, 21040745, 21040748, \n",
    "              21040750, 21040751, 21040752, 21040753, 21040755, 21040756, 21040758, \n",
    "              21040772, 21040710, 21040711]\n",
    "data[\"PIFDATE\"] = [\"10/29/2021 19:46:08\", \"11/03/2021 19:15:49\", \"11/05/2021 19:15:49\",\n",
    "                  \"11/01/2021 19:56:08\", \"11/02/2021 19:36:08\", \"10/28/2021 19:26:08\", \n",
    "                  \"10/28/2021 19:12:08\", \"10/29/2021 19:06:08\", \"10/29/2021 19:44:05\",\n",
    "                  \"10/29/2021 17:46:08\", \"10/28/2021 15:46:08\", \"10/27/2021 12:46:08\",\n",
    "                  \"10/27/2021 19:45:12\", \"10/29/2021 19:55:18\", \"10/29/2021 19:05:05\",\n",
    "                  \"11/01/2021 19:22:12\", \"10/29/2021 19:12:23\", \"10/28/2021 13:36:38\",\n",
    "                  \"10/29/2021 17:56:55\", \"10/30/2021 12:46:08\", \"10/30/2021 19:45:18\",\n",
    "                  \"11/01/2021 19:45:18\", \"11/01/2021 11:45:18\", \"11/02/2021 10:44:18\"]\n",
    "data['City'] = [\"Sandy\", \"Salt Lake City\", \"Logan\", \"Salt Lake City\", \"Salt Lake City\",\n",
    "               \"Salt Lake City\", \"Salt Lake City\", \"Salt Lake City\", \"Salt Lake City\", \n",
    "               \"Logan\", \"Logan\", \"Sandy\",\"Sandy\", \"Denver\", \"Denver\", \"Denver\", \"Denver\",\n",
    "               \"Denver\", \"Fort Collins\", \"Fort Collins\", \"Fort Collins\", \"Reno\", \"Reno\", \n",
    "                \"Reno\"]\n",
    "data[\"State\"] = [\"UT\", \"UT\", \"UT\", \"UT\", \"UT\", \"UT\", \"UT\", \"UT\", \"UT\", \"UT\", \"UT\",\"UT\", \"UT\",\n",
    "                \"CO\", \"CO\", \"CO\", \"CO\", \"CO\", \"CO\", \"CO\", \"CO\", \"NV\", \"NV\", \"NV\"]\n",
    "data[\"Registration Zip\"] = [84047, 84109, 84321,84109, 84109, 84109, 84109, 84109, 84109,\n",
    "                           84321, 84321, 84047, 84047, 80014, 80014, 80014, 80014, 80014, \n",
    "                           80521, 80521, 80521, 89433, 89433, 89433]\n",
    "data[\"Years in HIV Care\"] = [1,2,3,4,5,6,7,8,1,2,3,2,1,2,3,4,3,5,4,7,6,4,2,1]\n",
    "data[\"PIF3\"] = [17,18,1,3,4,3,4,5,6,2,3,4,5,1,2,12,3,4,13,12,14,2,3,4]\n",
    "data[\"PIF4\"] = [4,14,1,4,14,2,3,1,4,2,3,5,8,8,4,3,4,5,6,8,4,10,12,14]\n",
    "data[\"PIF5\"] = [0,0,1,1,0,0,0,0,1,0,0,1,0,1,0,1,0,0,1,0,1,0,0,1]\n",
    "data[\"PIF601\"] = [0,0,0,1,0,0,0,1,0,0,0,0,0,0,0,0,0,0,1,0,1,1,1,1]\n",
    "data[\"PIF602\"] = [0,0,0,0,0,1,0,0,0,1,0,0,0,0,0,0,1,1,0,1,0,0,0,0]\n",
    "data[\"PIF603\"] = [1,1,0,0,1,0,1,0,1,0,1,0,0,0,0,0,0,0,0,0,0,0,0,0]\n",
    "data[\"PIF604\"] = [0,0,0,0,0,0,0,0,0,0,0,0,0,0,0,0,0,0,0,0,0,0,0,0]\n",
    "data[\"PIF605\"] = [0,0,1,0,0,0,0,0,0,0,0,1,1,1,1,1,0,0,0,0,0,0,0,0]\n",
    "data[\"PIF7\"] = [3,9,1,1,3,2,1,2,3,9,2,3,9,1,2,1,2,9,1,2,3,1,2,4]\n",
    "data[\"PIF8\"] = [8,23,1,24,2,3,6,6,5,7,20,12,11,13,1,4,14,5,6,7,8,4,4,5]\n",
    "data[\"PIF901\"] = [84109, 84109, 84109, 84047, 84047, 84047, 84047, 84047, 84047, 84047,\n",
    "                 84047, 84109, 84109, 84109, 84109, 84109, 84109, 80014, 80014, 80014, \n",
    "                 80014,80014, 80014, 80014]\n",
    "data[\"PIF902\"] = [float(\"NaN\")]*24\n",
    "data[\"PIF903\"] = [float(\"NaN\")]*24\n",
    "data[\"PIF10\"] = [0]*24\n",
    "data[\"PIF11\"] = [0]*24\n",
    "data[\"PIF3_Specify_OtherAllied\"] = [\"Surgical Tech\",float(\"NaN\"), float(\"NaN\"),\n",
    "                                    \"Surgical Tech\", \"Surgical Tech\", float(\"NaN\"),\n",
    "                                   float(\"NaN\"), float(\"NaN\"),float(\"NaN\"),float(\"NaN\"),\n",
    "                                   float(\"NaN\"),float(\"NaN\"),float(\"NaN\"),float(\"NaN\"),\n",
    "                                   float(\"NaN\"), \"Surgical Tech\", float(\"NaN\"),float(\"NaN\"),\n",
    "                                   float(\"NaN\"),float(\"NaN\"),float(\"NaN\"),float(\"NaN\"),\n",
    "                                   float(\"NaN\"),float(\"NaN\")]\n",
    "data[\"PIF3_Specify_OtherNonClinical\"] = [float(\"NaN\"),\"Front Desk Receptionist\", float(\"NaN\"),\n",
    "                                        \"Front Desk Receptionist\",\"Front Desk Receptionist\",\n",
    "                                        \"Front Desk Receptionist\",float(\"NaN\"),float(\"NaN\"),\n",
    "                                        float(\"NaN\"),float(\"NaN\"),float(\"NaN\"),float(\"NaN\"),\n",
    "                                        float(\"NaN\"),float(\"NaN\"),float(\"NaN\"),float(\"NaN\"),\n",
    "                                        float(\"NaN\"),float(\"NaN\"),float(\"NaN\"),float(\"NaN\"),\n",
    "                                        float(\"NaN\"),float(\"NaN\"),float(\"NaN\"),float(\"NaN\")]\n",
    "data[\"PIF4_Specify\"] = [float(\"NaN\"),\"Continuing Education Student\", float(\"NaN\"),\n",
    "                       float(\"NaN\"),float(\"NaN\"),float(\"NaN\"),float(\"NaN\"),float(\"NaN\"),\n",
    "                       \"Graduate Student\", \"Continuing Education Student\",\"Graduate Student\",\n",
    "                       \"Graduate Student\",\"Continuing Education Student\",\n",
    "                       \"Continuing Education Student\",\"Continuing Education Student\",\n",
    "                       float(\"NaN\"),float(\"NaN\"),float(\"NaN\"),float(\"NaN\"),float(\"NaN\"),\n",
    "                       float(\"NaN\"),float(\"NaN\"),float(\"NaN\"),float(\"NaN\")]\n",
    "data[\"PIF12\"] = [0,0,1,1,0,0,1,0,1,1,0,1,0,1,0,1,0,0,0,1,0,1,0,0]\n",
    "data[\"PIF13\"] = [0,0,9,1,1,0,0,0,0,0,9,9,9,9,9,9,9,9,9,float(\"NaN\"),9,0,float(\"NaN\"),0]\n",
    "data[\"PIF14\"] = [0,0,1,float(\"NaN\"),1,0,0,float(\"NaN\"),float(\"NaN\"),\n",
    "                 float(\"NaN\"),float(\"NaN\"),float(\"NaN\"),0,0,0,0,1,1,0,0,0,0,0,0]\n",
    "data[\"PIF15\"] = [0,1,0,0,0,0,0,0,0,0,0,0,0,0,0,0,0,0,0,1,1,float(\"NaN\"),float(\"NaN\"),\n",
    "                float(\"NaN\")]\n",
    "data[\"PIF16\"] = [float(\"NaN\"),1, float(\"NaN\"), float(\"NaN\"),float(\"NaN\"),float(\"NaN\"),\n",
    "                float(\"NaN\"),float(\"NaN\"),float(\"NaN\"),float(\"NaN\"),float(\"NaN\"),float(\"NaN\"),\n",
    "                float(\"NaN\"),float(\"NaN\"),float(\"NaN\"),float(\"NaN\"),float(\"NaN\"),\n",
    "                float(\"NaN\"),float(\"NaN\"),1,1,float(\"NaN\"),float(\"NaN\"),float(\"NaN\")]\n",
    "data[\"PIF17\"] = [float(\"NaN\"),3, float(\"NaN\"),float(\"NaN\"),float(\"NaN\"),float(\"NaN\"),\n",
    "                float(\"NaN\"),float(\"NaN\"),float(\"NaN\"),float(\"NaN\"),float(\"NaN\"),\n",
    "                 float(\"NaN\"),\n",
    "                float(\"NaN\"),float(\"NaN\"),float(\"NaN\"),float(\"NaN\"),float(\"NaN\"),\n",
    "                float(\"NaN\"),float(\"NaN\"),22,45,float(\"NaN\"),float(\"NaN\"),float(\"NaN\")]\n",
    "data[\"PIF18\"] = [float(\"NaN\"),44, float(\"NaN\"),float(\"NaN\"),float(\"NaN\"),float(\"NaN\"),\n",
    "                float(\"NaN\"),float(\"NaN\"),float(\"NaN\"),float(\"NaN\"),float(\"NaN\"),\n",
    "                 float(\"NaN\"),\n",
    "                float(\"NaN\"),float(\"NaN\"),float(\"NaN\"),float(\"NaN\"),float(\"NaN\"),\n",
    "                float(\"NaN\"),float(\"NaN\"),454,7890,float(\"NaN\"),float(\"NaN\"),float(\"NaN\")]\n",
    "data[\"PIF19\"] = [float(\"NaN\"),3, float(\"NaN\"),float(\"NaN\"),float(\"NaN\"),float(\"NaN\"),\n",
    "                float(\"NaN\"),float(\"NaN\"),float(\"NaN\"),float(\"NaN\"),float(\"NaN\"),\n",
    "                 float(\"NaN\"),\n",
    "                float(\"NaN\"),float(\"NaN\"),float(\"NaN\"),float(\"NaN\"),float(\"NaN\"),\n",
    "                float(\"NaN\"),float(\"NaN\"),1,1,float(\"NaN\"),float(\"NaN\"),float(\"NaN\")]\n",
    "data[\"PIF20\"] = [float(\"NaN\"),3, float(\"NaN\"),float(\"NaN\"),float(\"NaN\"),float(\"NaN\"),\n",
    "                float(\"NaN\"),float(\"NaN\"),float(\"NaN\"),float(\"NaN\"),float(\"NaN\"),\n",
    "                 float(\"NaN\"),\n",
    "                float(\"NaN\"),float(\"NaN\"),float(\"NaN\"),float(\"NaN\"),float(\"NaN\"),\n",
    "                float(\"NaN\"),float(\"NaN\"),2,3,float(\"NaN\"),float(\"NaN\"),float(\"NaN\")]\n",
    "data[\"PIF21\"] = [float(\"NaN\"),3, float(\"NaN\"),float(\"NaN\"),float(\"NaN\"),float(\"NaN\"),\n",
    "                float(\"NaN\"),float(\"NaN\"),float(\"NaN\"),float(\"NaN\"),float(\"NaN\"),\n",
    "                 float(\"NaN\"),\n",
    "                float(\"NaN\"),float(\"NaN\"),float(\"NaN\"),float(\"NaN\"),float(\"NaN\"),\n",
    "                float(\"NaN\"),float(\"NaN\"),2,4,float(\"NaN\"),float(\"NaN\"),float(\"NaN\")]\n",
    "data[\"PIF22\"] = [float(\"NaN\"),3, float(\"NaN\"),float(\"NaN\"),float(\"NaN\"),float(\"NaN\"),\n",
    "                float(\"NaN\"),float(\"NaN\"),float(\"NaN\"),float(\"NaN\"),float(\"NaN\"),\n",
    "                 float(\"NaN\"),\n",
    "                float(\"NaN\"),float(\"NaN\"),float(\"NaN\"),float(\"NaN\"),float(\"NaN\"),\n",
    "                float(\"NaN\"),float(\"NaN\"),3,3,float(\"NaN\"),float(\"NaN\"),float(\"NaN\")]\n",
    "data[\"PIF23\"] = [float(\"NaN\"),3, float(\"NaN\"),float(\"NaN\"),float(\"NaN\"),float(\"NaN\"),\n",
    "                float(\"NaN\"),float(\"NaN\"),float(\"NaN\"),float(\"NaN\"),float(\"NaN\"),\n",
    "                 float(\"NaN\"),\n",
    "                float(\"NaN\"),float(\"NaN\"),float(\"NaN\"),float(\"NaN\"),float(\"NaN\"),\n",
    "                float(\"NaN\"),float(\"NaN\"),3,4,float(\"NaN\"),float(\"NaN\"),float(\"NaN\")]\n",
    "data"
   ]
  },
  {
   "cell_type": "code",
   "execution_count": null,
   "id": "738f528c",
   "metadata": {},
   "outputs": [],
   "source": [
    "data.dtypes[3]"
   ]
  },
  {
   "cell_type": "code",
   "execution_count": null,
   "id": "e9dabd4a",
   "metadata": {},
   "outputs": [],
   "source": [
    "data.columns[3]"
   ]
  },
  {
   "cell_type": "code",
   "execution_count": null,
   "id": "3b8ae500",
   "metadata": {},
   "outputs": [],
   "source": [
    "col_name = []\n",
    "col_data_arr = []\n",
    "\n",
    "# this code finds all of the columns that have object datatypes in the data dataframe and then removes them \n",
    "# from the data dataframe\n",
    "for i in range(len(data.columns)):\n",
    "    if data.dtypes[i] == \"object\":\n",
    "        col_data = data[data.columns[i]]\n",
    "        col_data_arr.append(col_data)\n",
    "        col_name.append(data.columns[i])\n",
    "\n",
    "print(col_name)      \n",
    "data = data.drop(col_name, axis = 1)\n",
    "\n",
    "# Following removal of the columns with an object datatype, the object datatype columns\n",
    "# are readded to the end of the dataframe\n",
    "for i in range(len(col_name)):\n",
    "    data[col_name[i]] = col_data_arr[i]\n",
    "\n",
    "# This adds the keyword Categ to the end of the column names that have an object dtype\n",
    "for i in range(len(data.columns)):\n",
    "    if data.dtypes[i] == \"object\" and i != 0:\n",
    "        data = data.rename(columns={data.columns[i]: data.columns[i]+\"Categ\"})\n",
    "    elif i == 0:\n",
    "        data = data.rename(columns={data.columns[i]: \"ID\"})\n",
    "data"
   ]
  },
  {
   "cell_type": "code",
   "execution_count": null,
   "id": "8a5d4807",
   "metadata": {},
   "outputs": [],
   "source": [
    "# this removes spaces and special characters from the categories\n",
    "for i in range(len(data.columns)):\n",
    "    if data.dtypes[i] == \"object\" and \"DATE\" not in data.columns[i]:\n",
    "        \n",
    "        for k in range(len(data)):\n",
    "            if type(data[data.columns[i]][k]) == str:\n",
    "                data[data.columns[i]][k] = data[data.columns[i]][k].replace(\"/\", \"-\")\n",
    "                data[data.columns[i]][k] = data[data.columns[i]][k].replace(\".\", \"dot\")\n",
    "                data[data.columns[i]][k] = data[data.columns[i]][k].replace(\"@\", \"at\")\n",
    "                data[data.columns[i]][k] = data[data.columns[i]][k].replace(\" \", \"\")\n",
    "    \n",
    "    # this changes the date format into a compatible date format     \n",
    "    elif data.dtypes[i] == \"object\" and \"DATE\" in data.columns[i]:\n",
    "        for k in range(len(data)):\n",
    "            data[data.columns[i]][k] = \"Date\" + data[data.columns[i]][k][0:10]\n",
    "            data[data.columns[i]][k] = data[data.columns[i]][k].replace(\"/\", \"-\")\n",
    "data"
   ]
  },
  {
   "cell_type": "code",
   "execution_count": null,
   "id": "7b053df5",
   "metadata": {},
   "outputs": [],
   "source": [
    "data['ID'] = 'id' + data['ID'].astype(str)"
   ]
  },
  {
   "cell_type": "code",
   "execution_count": null,
   "id": "de8da55e",
   "metadata": {},
   "outputs": [],
   "source": [
    "data.dtypes"
   ]
  },
  {
   "cell_type": "code",
   "execution_count": null,
   "id": "de017ff4",
   "metadata": {},
   "outputs": [],
   "source": [
    "data.to_csv(\"FakeSoMData.csv\", index = False)"
   ]
  },
  {
   "cell_type": "code",
   "execution_count": null,
   "id": "69fd2409",
   "metadata": {},
   "outputs": [],
   "source": [
    "data.to_csv(\"data/demo.csv\", index = False)"
   ]
  },
  {
   "cell_type": "code",
   "execution_count": null,
   "id": "9cd67a67",
   "metadata": {},
   "outputs": [],
   "source": []
  }
 ],
 "metadata": {
  "kernelspec": {
   "display_name": "Python 3",
   "language": "python",
   "name": "python3"
  },
  "language_info": {
   "codemirror_mode": {
    "name": "ipython",
    "version": 3
   },
   "file_extension": ".py",
   "mimetype": "text/x-python",
   "name": "python",
   "nbconvert_exporter": "python",
   "pygments_lexer": "ipython3",
   "version": "3.8.8"
  }
 },
 "nbformat": 4,
 "nbformat_minor": 5
}
